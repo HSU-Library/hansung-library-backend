{
 "cells": [
  {
   "cell_type": "markdown",
   "metadata": {},
   "source": [
    "## 텍스트 파일로 변환하는 로직\n",
    "- asposecells 라이브러리 사용"
   ]
  },
  {
   "cell_type": "code",
   "execution_count": 9,
   "metadata": {},
   "outputs": [],
   "source": [
    "''' 텍스트파일로 변환하는 로직\n",
    "import  jpype     \n",
    "import  asposecells     \n",
    "from asposecells.api import Workbook\n",
    "# notebooks → backend/data 로 접근\n",
    "csv_path = \"../backend/data/BookLoan_10years_data.csv\"\n",
    "txt_path = \"../backend/data/BookLoan_10years_data.txt\"\n",
    "\n",
    "workbook = Workbook(csv_path)\n",
    "workbook.save(txt_path)\n",
    "jpype.shutdownJVM() \n",
    "'''"
   ]
  },
  {
   "cell_type": "markdown",
   "metadata": {},
   "source": [
    "## 저장한 csv파일 로드 및 종류를 분류하여 대출횟수 많은순으로 정렬\n",
    "1. 도서 종류에 따른 분류 \n",
    "2. 1학년 1학기 학생 필터링\n",
    "3. 도서별 대출 횟수 집계\n",
    "4. 대출 횟수별 정렬"
   ]
  },
  {
   "cell_type": "code",
   "execution_count": 35,
   "metadata": {},
   "outputs": [
    {
     "name": "stdout",
     "output_type": "stream",
     "text": [
      "✅ 전체 결과가 recommend_all.csv 파일로 저장되었습니다!\n"
     ]
    }
   ],
   "source": [
    "import pandas as pd\n",
    "from datetime import datetime\n",
    "\n",
    "# CSV 불러오기\n",
    "df = pd.read_csv(\"../backend/data/BookLoan_10years_data.csv\", encoding=\"utf-8\")\n",
    "\n",
    "# 날짜 변환\n",
    "df[\"대출일자\"] = pd.to_datetime(df[\"대출일자\"])\n",
    "\n",
    "# 입학년도 추론 (학번 앞 2자리)\n",
    "df[\"입학년도\"] = 2000 + df[\"학번\"].astype(str).str[:2].astype(int)\n",
    "\n",
    "# 현재 학년 (최대 4학년)\n",
    "df[\"재학년차\"] = datetime.now().year - df[\"입학년도\"]\n",
    "df[\"학년\"] = df[\"재학년차\"].apply(lambda x: x if x <= 4 else 4)\n",
    "\n",
    "# 학기 계산 (3~9월 = 1학기, 10~2월 = 2학기)\n",
    "df[\"월\"] = df[\"대출일자\"].dt.month\n",
    "df[\"학기\"] = df[\"월\"].apply(lambda m: 1 if 3 <= m <= 9 else 2)\n",
    "\n",
    "# 청구기호 분류 매핑\n",
    "def classify_subject(code):\n",
    "    try:\n",
    "        num = int(str(code).split('.')[0])  # 앞자리 정수만 추출\n",
    "    except:\n",
    "        return \"기타\"\n",
    "\n",
    "    if 0 <= num <= 99: return \"총류\"\n",
    "    elif 100 <= num <= 199: return \"철학\"\n",
    "    elif 200 <= num <= 299: return \"종교\"\n",
    "    elif 300 <= num <= 399: return \"사회과학\"\n",
    "    elif 400 <= num <= 499: return \"자연과학\"\n",
    "    elif 500 <= num <= 599: return \"기술과학\"\n",
    "    elif 600 <= num <= 699: return \"예술\"\n",
    "    elif 700 <= num <= 799: return \"언어\"\n",
    "    elif 800 <= num <= 899: return \"문학\"\n",
    "    elif 900 <= num <= 999: return \"역사\"\n",
    "    else: return \"기타\"\n",
    "\n",
    "df[\"분류\"] = df[\"청구기호\"].apply(classify_subject)\n",
    "\n",
    "# 분야 리스트\n",
    "subjects = [\"총류\", \"철학\", \"종교\", \"사회과학\", \"자연과학\", \"기술과학\", \"예술\", \"언어\", \"문학\", \"역사\", \"기타\"]\n",
    "\n",
    "# 추천 집계 함수\n",
    "def recommend_books(year, semester, category, top_n=5):\n",
    "    subset = df[(df[\"학년\"] == year) & (df[\"학기\"] == semester) & (df[\"분류\"] == category)]\n",
    "\n",
    "    if subset.empty:\n",
    "        return pd.DataFrame()  # 빈 DF 반환\n",
    "\n",
    "    book_counts = (\n",
    "        subset.groupby(\"서명\")\n",
    "        .agg(\n",
    "            대출횟수=(\"서명\", \"count\"),\n",
    "            대출학생수=(\"학번\", \"nunique\")\n",
    "        )\n",
    "        .reset_index()\n",
    "        .sort_values(by=\"대출학생수\", ascending=False)\n",
    "    )\n",
    "    return book_counts.head(top_n)\n",
    "\n",
    "# 전체 결과 저장\n",
    "results = []\n",
    "\n",
    "for grade in range(1, 5):       # 1~4학년\n",
    "    for semester in [1, 2]:     # 1학기, 2학기\n",
    "        for subject in subjects:\n",
    "            result = recommend_books(grade, semester, subject)\n",
    "            if not result.empty:\n",
    "                result[\"학년\"] = grade\n",
    "                result[\"학기\"] = semester\n",
    "                result[\"분야\"] = subject\n",
    "                results.append(result)\n",
    "\n",
    "# 리스트 → 하나의 DataFrame으로 합치기\n",
    "final_df = pd.concat(results, ignore_index=True)\n",
    "\n",
    "# CSV로 저장\n",
    "final_df.to_csv(\"../backend/data/recommend_all.csv\", index=False, encoding=\"utf-8-sig\")\n",
    "print(\"✅ 전체 결과가 recommend_all.csv 파일로 저장되었습니다!\")"
   ]
  },
  {
   "cell_type": "code",
   "execution_count": null,
   "metadata": {},
   "outputs": [],
   "source": []
  }
 ],
 "metadata": {
  "kernelspec": {
   "display_name": "ssy",
   "language": "python",
   "name": "python3"
  },
  "language_info": {
   "codemirror_mode": {
    "name": "ipython",
    "version": 3
   },
   "file_extension": ".py",
   "mimetype": "text/x-python",
   "name": "python",
   "nbconvert_exporter": "python",
   "pygments_lexer": "ipython3",
   "version": "3.11.7"
  }
 },
 "nbformat": 4,
 "nbformat_minor": 2
}
